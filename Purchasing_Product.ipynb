{
 "cells": [
  {
   "cell_type": "code",
   "execution_count": 6,
   "id": "cd3eeea2",
   "metadata": {},
   "outputs": [
    {
     "ename": "JSONDecodeError",
     "evalue": "Expecting ',' delimiter: line 1 column 2527 (char 2526)",
     "output_type": "error",
     "traceback": [
      "\u001b[1;31m---------------------------------------------------------------------------\u001b[0m",
      "\u001b[1;31mJSONDecodeError\u001b[0m                           Traceback (most recent call last)",
      "\u001b[1;32m<ipython-input-6-973fee820430>\u001b[0m in \u001b[0;36m<module>\u001b[1;34m\u001b[0m\n\u001b[0;32m      8\u001b[0m     \u001b[0mr\u001b[0m\u001b[1;33m=\u001b[0m\u001b[0mfd\u001b[0m\u001b[1;33m.\u001b[0m\u001b[0mread\u001b[0m\u001b[1;33m(\u001b[0m\u001b[1;33m)\u001b[0m\u001b[1;33m\u001b[0m\u001b[1;33m\u001b[0m\u001b[0m\n\u001b[0;32m      9\u001b[0m     \u001b[0mfd\u001b[0m\u001b[1;33m.\u001b[0m\u001b[0mclose\u001b[0m\u001b[1;33m(\u001b[0m\u001b[1;33m)\u001b[0m\u001b[1;33m\u001b[0m\u001b[1;33m\u001b[0m\u001b[0m\n\u001b[1;32m---> 10\u001b[1;33m     \u001b[0mrecord\u001b[0m\u001b[1;33m=\u001b[0m\u001b[0mjson\u001b[0m\u001b[1;33m.\u001b[0m\u001b[0mloads\u001b[0m\u001b[1;33m(\u001b[0m\u001b[0mr\u001b[0m\u001b[1;33m)\u001b[0m\u001b[1;33m\u001b[0m\u001b[1;33m\u001b[0m\u001b[0m\n\u001b[0m\u001b[0;32m     11\u001b[0m \u001b[1;33m\u001b[0m\u001b[0m\n\u001b[0;32m     12\u001b[0m     \u001b[0mfd1\u001b[0m\u001b[1;33m=\u001b[0m\u001b[0mopen\u001b[0m\u001b[1;33m(\u001b[0m\u001b[1;34m'sales.json'\u001b[0m\u001b[1;33m,\u001b[0m\u001b[1;34m'r'\u001b[0m\u001b[1;33m)\u001b[0m\u001b[1;33m\u001b[0m\u001b[1;33m\u001b[0m\u001b[0m\n",
      "\u001b[1;32m~\\anaconda3\\lib\\json\\__init__.py\u001b[0m in \u001b[0;36mloads\u001b[1;34m(s, cls, object_hook, parse_float, parse_int, parse_constant, object_pairs_hook, **kw)\u001b[0m\n\u001b[0;32m    355\u001b[0m             \u001b[0mparse_int\u001b[0m \u001b[1;32mis\u001b[0m \u001b[1;32mNone\u001b[0m \u001b[1;32mand\u001b[0m \u001b[0mparse_float\u001b[0m \u001b[1;32mis\u001b[0m \u001b[1;32mNone\u001b[0m \u001b[1;32mand\u001b[0m\u001b[1;33m\u001b[0m\u001b[1;33m\u001b[0m\u001b[0m\n\u001b[0;32m    356\u001b[0m             parse_constant is None and object_pairs_hook is None and not kw):\n\u001b[1;32m--> 357\u001b[1;33m         \u001b[1;32mreturn\u001b[0m \u001b[0m_default_decoder\u001b[0m\u001b[1;33m.\u001b[0m\u001b[0mdecode\u001b[0m\u001b[1;33m(\u001b[0m\u001b[0ms\u001b[0m\u001b[1;33m)\u001b[0m\u001b[1;33m\u001b[0m\u001b[1;33m\u001b[0m\u001b[0m\n\u001b[0m\u001b[0;32m    358\u001b[0m     \u001b[1;32mif\u001b[0m \u001b[0mcls\u001b[0m \u001b[1;32mis\u001b[0m \u001b[1;32mNone\u001b[0m\u001b[1;33m:\u001b[0m\u001b[1;33m\u001b[0m\u001b[1;33m\u001b[0m\u001b[0m\n\u001b[0;32m    359\u001b[0m         \u001b[0mcls\u001b[0m \u001b[1;33m=\u001b[0m \u001b[0mJSONDecoder\u001b[0m\u001b[1;33m\u001b[0m\u001b[1;33m\u001b[0m\u001b[0m\n",
      "\u001b[1;32m~\\anaconda3\\lib\\json\\decoder.py\u001b[0m in \u001b[0;36mdecode\u001b[1;34m(self, s, _w)\u001b[0m\n\u001b[0;32m    335\u001b[0m \u001b[1;33m\u001b[0m\u001b[0m\n\u001b[0;32m    336\u001b[0m         \"\"\"\n\u001b[1;32m--> 337\u001b[1;33m         \u001b[0mobj\u001b[0m\u001b[1;33m,\u001b[0m \u001b[0mend\u001b[0m \u001b[1;33m=\u001b[0m \u001b[0mself\u001b[0m\u001b[1;33m.\u001b[0m\u001b[0mraw_decode\u001b[0m\u001b[1;33m(\u001b[0m\u001b[0ms\u001b[0m\u001b[1;33m,\u001b[0m \u001b[0midx\u001b[0m\u001b[1;33m=\u001b[0m\u001b[0m_w\u001b[0m\u001b[1;33m(\u001b[0m\u001b[0ms\u001b[0m\u001b[1;33m,\u001b[0m \u001b[1;36m0\u001b[0m\u001b[1;33m)\u001b[0m\u001b[1;33m.\u001b[0m\u001b[0mend\u001b[0m\u001b[1;33m(\u001b[0m\u001b[1;33m)\u001b[0m\u001b[1;33m)\u001b[0m\u001b[1;33m\u001b[0m\u001b[1;33m\u001b[0m\u001b[0m\n\u001b[0m\u001b[0;32m    338\u001b[0m         \u001b[0mend\u001b[0m \u001b[1;33m=\u001b[0m \u001b[0m_w\u001b[0m\u001b[1;33m(\u001b[0m\u001b[0ms\u001b[0m\u001b[1;33m,\u001b[0m \u001b[0mend\u001b[0m\u001b[1;33m)\u001b[0m\u001b[1;33m.\u001b[0m\u001b[0mend\u001b[0m\u001b[1;33m(\u001b[0m\u001b[1;33m)\u001b[0m\u001b[1;33m\u001b[0m\u001b[1;33m\u001b[0m\u001b[0m\n\u001b[0;32m    339\u001b[0m         \u001b[1;32mif\u001b[0m \u001b[0mend\u001b[0m \u001b[1;33m!=\u001b[0m \u001b[0mlen\u001b[0m\u001b[1;33m(\u001b[0m\u001b[0ms\u001b[0m\u001b[1;33m)\u001b[0m\u001b[1;33m:\u001b[0m\u001b[1;33m\u001b[0m\u001b[1;33m\u001b[0m\u001b[0m\n",
      "\u001b[1;32m~\\anaconda3\\lib\\json\\decoder.py\u001b[0m in \u001b[0;36mraw_decode\u001b[1;34m(self, s, idx)\u001b[0m\n\u001b[0;32m    351\u001b[0m         \"\"\"\n\u001b[0;32m    352\u001b[0m         \u001b[1;32mtry\u001b[0m\u001b[1;33m:\u001b[0m\u001b[1;33m\u001b[0m\u001b[1;33m\u001b[0m\u001b[0m\n\u001b[1;32m--> 353\u001b[1;33m             \u001b[0mobj\u001b[0m\u001b[1;33m,\u001b[0m \u001b[0mend\u001b[0m \u001b[1;33m=\u001b[0m \u001b[0mself\u001b[0m\u001b[1;33m.\u001b[0m\u001b[0mscan_once\u001b[0m\u001b[1;33m(\u001b[0m\u001b[0ms\u001b[0m\u001b[1;33m,\u001b[0m \u001b[0midx\u001b[0m\u001b[1;33m)\u001b[0m\u001b[1;33m\u001b[0m\u001b[1;33m\u001b[0m\u001b[0m\n\u001b[0m\u001b[0;32m    354\u001b[0m         \u001b[1;32mexcept\u001b[0m \u001b[0mStopIteration\u001b[0m \u001b[1;32mas\u001b[0m \u001b[0merr\u001b[0m\u001b[1;33m:\u001b[0m\u001b[1;33m\u001b[0m\u001b[1;33m\u001b[0m\u001b[0m\n\u001b[0;32m    355\u001b[0m             \u001b[1;32mraise\u001b[0m \u001b[0mJSONDecodeError\u001b[0m\u001b[1;33m(\u001b[0m\u001b[1;34m\"Expecting value\"\u001b[0m\u001b[1;33m,\u001b[0m \u001b[0ms\u001b[0m\u001b[1;33m,\u001b[0m \u001b[0merr\u001b[0m\u001b[1;33m.\u001b[0m\u001b[0mvalue\u001b[0m\u001b[1;33m)\u001b[0m \u001b[1;32mfrom\u001b[0m \u001b[1;32mNone\u001b[0m\u001b[1;33m\u001b[0m\u001b[1;33m\u001b[0m\u001b[0m\n",
      "\u001b[1;31mJSONDecodeError\u001b[0m: Expecting ',' delimiter: line 1 column 2527 (char 2526)"
     ]
    }
   ],
   "source": [
    "import json\n",
    "import random\n",
    "from datetime import datetime\n",
    "\n",
    "Entry=True\n",
    "while(Entry):\n",
    "    fd=open('prodlist.json','r')\n",
    "    r=fd.read()\n",
    "    fd.close()\n",
    "    record=json.loads(r)\n",
    "\n",
    "    fd1=open('sales.json','r')\n",
    "    rs=fd1.read()\n",
    "    fd1.close()\n",
    "    sales_record=json.loads(rs)\n",
    "    \n",
    "    print(\"Press: 0  For Showing All Product List.\\n\")\n",
    "    print(\"Press: 1 For Purchase.\\n\")\n",
    "    print(\"Press: 2 For Check bill through bill_no\\n\")\n",
    "    print(\"Press: 3  For Exit.\\n\")\n",
    "    x=int(input(\"\"))\n",
    "    if(x==0):\n",
    "        print(\"******\"*15)\n",
    "        print(\"\\tProduct_id\\tProduct_name\\tProduct_Quantity\\tPrice\")\n",
    "        print(\"******\"*15)\n",
    "        for i in record.keys():\n",
    "            print(f\"\\t{i}\\t\\t{record[i]['product_name']}\\t\\t{record[i]['product_quantity']}\\t\\t{record[i]['product_price']}\\n\")\n",
    "   \n",
    "    if(x==1):\n",
    "        a=True\n",
    "        while(a):\n",
    "            present=0\n",
    "            prod_id  = str(input(\"Enter the product_Id: \"))\n",
    "            for i in record.keys():\n",
    "                if(prod_id==i):\n",
    "                    quant_check=True\n",
    "                    while(quant_check):\n",
    "                        prod_quant = int(input(\"Enter the quantity: \"))\n",
    "                        if(record[i]['product_quantity']>=prod_quant):\n",
    "                            present=1\n",
    "                            quant_check=False\n",
    "                            #bill id\n",
    "                            bill_id_check=True\n",
    "                            B_id=1000\n",
    "                            while(bill_id_check):\n",
    "                                n=random.randint(100,999)\n",
    "                                Bill_found=False\n",
    "                                for j in sales_record.keys():\n",
    "                                    if(j==n):\n",
    "                                        Bill_found=True\n",
    "                                if(not Bill_found):\n",
    "                                    B_id=n\n",
    "                                    bill_id_check=False\n",
    "                            #date\n",
    "                            today = datetime.now()\n",
    "                            date_time=(str(today)).split(\" \")\n",
    "                            #bill genrate  record[i]['product_name']\n",
    "                            print(\"----\"*15)\n",
    "                            print(\"\\t\\t\\t-:Your Bill:-\")\n",
    "                            print(\"----\"*15)\n",
    "                            print(f\"  Bill No.:- {n}\\t\\t\\t\\tDate:-{date_time[0]}\")\n",
    "                            print(\"----\"*15)\n",
    "                            print(f\"\\n\\tProduct Id :- \\t\\t{prod_id}\")\n",
    "                            print(f\"\\tProduct Name :- \\t{record[prod_id]['product_name']}\")\n",
    "                            print(f\"\\tselect Quantity :- \\t{prod_quant}\")\n",
    "                            print(f\"\\tPrice :- \\t\\t{record[prod_id]['product_price']}\")\n",
    "                            print(\"----\"*15)\n",
    "                            print(f\"\\tTotal Amount :- \\t{record[prod_id]['product_price']*prod_quant}\")\n",
    "                            print(\"----\"*15)\n",
    "\n",
    "                            fd=open('sales.json','w')\n",
    "                            sales_record[B_id]={'date' : date_time[0], 'Time' : date_time[1], 'Bill_No' : B_id,'Product_Id':prod_id,'Product_name':record[prod_id]['product_name'],'Product_quantity':prod_quant,'Product_price':record[prod_id]['product_price'],'Total_Amount':record[prod_id]['product_price']*prod_quant}\n",
    "                            fd.write(json.dumps(sales_record))\n",
    "                            fd.close()\n",
    "\n",
    "\n",
    "                            fd = open(\"prodlist.json\",'w')\n",
    "                            record[prod_id]['product_quantity']=record[prod_id]['product_quantity']-int(prod_quant)\n",
    "                            fd.write(json.dumps(record))\n",
    "                            fd.close()\n",
    "                            \n",
    "                            a=False\n",
    "                        else:\n",
    "                            print(f\"Sorry only {record[i]['product_quantity']} quantiy are present \")\n",
    "                            w=int(input(\"Press 1 for re-enter Quantity\\nPress 2 for exit\\n\"))\n",
    "                            if(w==2):\n",
    "                                quant_check=False\n",
    "                                present=1\n",
    "                                a=False\n",
    "                            else:\n",
    "                                continue;\n",
    "\n",
    "            if(present==0):\n",
    "                print(f\"product Id {prod_id} is Not pressent\\n\")\n",
    "                print(\"Please Re-enter Product Id:\")\n",
    "\n",
    "    if(x==2):\n",
    "        bill_no=input(\"Enter bill no. :- \\n\")\n",
    "        if(bill_no in sales_record.keys()):\n",
    "            print(\"----\"*15)\n",
    "            print(\"\\t\\t\\t-:Your Bill:-\")\n",
    "            print(\"----\"*15)\n",
    "            print(f\"  Bill No.:- {bill_no}\\t\\t\\t\\tDate:-{sales_record[bill_no]['date']}\")\n",
    "            print(\"----\"*15)\n",
    "            print(f\"\\n\\tProduct Id :- \\t\\t{sales_record[bill_no]['Product_Id']}\")\n",
    "            print(f\"\\tProduct Name :- \\t{sales_record[bill_no]['Product_name']}\")\n",
    "            print(f\"\\tselect Quantity :- \\t{sales_record[bill_no]['Product_quantity']}\")\n",
    "            print(f\"\\tPrice :- \\t\\t{sales_record[bill_no]['Product_price']}\")\n",
    "            print(\"----\"*15)\n",
    "            print(f\"\\tTotal Amount :- \\t{sales_record[bill_no]['Total_Amount']}\")\n",
    "            print(\"----\"*15)\n",
    "    if(x==3):\n",
    "        print(\"\\t\\t\\t\\t###### Thank Youuu ######\")\n",
    "        print(\"\\t\\t\\t\\t###### Have a Nice day ######\")\n",
    "        Entry=False\n",
    "  "
   ]
  },
  {
   "cell_type": "code",
   "execution_count": 88,
   "id": "49bc467d",
   "metadata": {},
   "outputs": [
    {
     "name": "stdout",
     "output_type": "stream",
     "text": [
      "random = 100\n",
      "random = 100\n",
      "random = 101\n",
      "Bill = 101\n"
     ]
    }
   ],
   "source": [
    "import random\n",
    "l=[100,102]\n",
    "bill_id_check=True\n",
    "B_id=1000\n",
    "while(bill_id_check):\n",
    "    n=random.randint(100,101)\n",
    "    Bill_found=False\n",
    "    print(\"random =\",n)\n",
    "    for j in l:\n",
    "        if(j==n):\n",
    "            Bill_found=True\n",
    "            break;\n",
    "    if(not Bill_found):\n",
    "        B_id=n\n",
    "        bill_id_check=False\n",
    "print(\"Bill =\",B_id)"
   ]
  },
  {
   "cell_type": "code",
   "execution_count": 29,
   "id": "633df190",
   "metadata": {},
   "outputs": [
    {
     "name": "stdout",
     "output_type": "stream",
     "text": [
      "144\n"
     ]
    }
   ],
   "source": [
    "import random\n",
    "n=random.randint(100,201)\n",
    "print(n)"
   ]
  },
  {
   "cell_type": "code",
   "execution_count": 21,
   "id": "083b6968",
   "metadata": {},
   "outputs": [
    {
     "name": "stdout",
     "output_type": "stream",
     "text": [
      "Date : 2021-09-03 \t Time : 23:09:14.666137\n"
     ]
    }
   ],
   "source": [
    "from datetime import datetime\n",
    "today = datetime.now()\n",
    "date_time=(str(today)).split(\" \")\n",
    "print(f\"Date : {date_time[0]} \\t Time : {date_time[1]}\")"
   ]
  },
  {
   "cell_type": "code",
   "execution_count": 1,
   "id": "6358493f",
   "metadata": {},
   "outputs": [],
   "source": [
    "import json\n",
    "fd1=open('sales.json','w')\n",
    "data={'1006':{'First Entry' : 'run time'}}\n",
    "fd1.write(json.dumps(data))\n",
    "fd1.close()"
   ]
  },
  {
   "cell_type": "code",
   "execution_count": 3,
   "id": "615f22a4",
   "metadata": {},
   "outputs": [
    {
     "name": "stdout",
     "output_type": "stream",
     "text": [
      "{'1005': {'First Entry': 'run time'}}\n"
     ]
    },
    {
     "data": {
      "text/plain": [
       "dict"
      ]
     },
     "execution_count": 3,
     "metadata": {},
     "output_type": "execute_result"
    }
   ],
   "source": [
    "import json\n",
    "fd=open('sales.json','r')\n",
    "r=fd.read()\n",
    "fd.close()\n",
    "record=json.loads(r)\n",
    "print(record)\n",
    "type(record)\n",
    "record[]"
   ]
  },
  {
   "cell_type": "code",
   "execution_count": null,
   "id": "d4b94b2b",
   "metadata": {},
   "outputs": [],
   "source": []
  }
 ],
 "metadata": {
  "kernelspec": {
   "display_name": "Python 3",
   "language": "python",
   "name": "python3"
  }
 },
 "nbformat": 4,
 "nbformat_minor": 5
}
